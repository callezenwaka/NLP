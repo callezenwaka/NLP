{
  "nbformat": 4,
  "nbformat_minor": 0,
  "metadata": {
    "colab": {
      "name": "Twitter Sentiment Analysis.ipynb",
      "provenance": [],
      "private_outputs": true,
      "include_colab_link": true
    },
    "kernelspec": {
      "name": "python3",
      "display_name": "Python 3"
    },
    "accelerator": "GPU"
  },
  "cells": [
    {
      "cell_type": "markdown",
      "metadata": {
        "id": "view-in-github",
        "colab_type": "text"
      },
      "source": [
        "<a href=\"https://colab.research.google.com/github/callezenwaka/NLP/blob/master/Twitter_Sentiment_Analysis.ipynb\" target=\"_parent\"><img src=\"https://colab.research.google.com/assets/colab-badge.svg\" alt=\"Open In Colab\"/></a>"
      ]
    },
    {
      "cell_type": "code",
      "metadata": {
        "id": "TkVYxilABHfm",
        "colab_type": "code",
        "colab": {}
      },
      "source": [
        "# Import libraries\n",
        "import tweepy\n",
        "from textblob import TextBlob"
      ],
      "execution_count": 0,
      "outputs": []
    },
    {
      "cell_type": "code",
      "metadata": {
        "id": "mjUEu94eBR_3",
        "colab_type": "code",
        "colab": {}
      },
      "source": [
        "Feedback1 = 'The food at Radison was awesome'\n",
        "Feedback2 = 'The food at Radison was very good'\n",
        "blob1 = TextBlob(Feedback1)\n",
        "blob2 = TextBlob(Feedback2)\n",
        "print(blob1.sentiment)\n",
        "print(blob2.sentiment)"
      ],
      "execution_count": 0,
      "outputs": []
    },
    {
      "cell_type": "code",
      "metadata": {
        "id": "84GBHXBeBSQF",
        "colab_type": "code",
        "colab": {}
      },
      "source": [
        "# Set consumer keys and tokens\n",
        "consumer_key = ''\n",
        "consumer_secret = ''\n",
        "access_token = ''\n",
        "access_token_secret = ''\n",
        "auth = tweepy.OAuthHandler(consumer_key, consumer_secret)\n",
        "auth.access_token_secret(access_token_secret, access_token_secret)\n",
        "api = tweepy.API(auth)\n",
        "public_tweets = api.search('Buhari')\n",
        "for tweet in public_tweets:\n",
        "  print(tweet.text)\n",
        "  analysis = TextBlob(tweet.text)\n",
        "  print(analysis.sentiment)\n"
      ],
      "execution_count": 0,
      "outputs": []
    },
    {
      "cell_type": "code",
      "metadata": {
        "id": "LfuO1hFoRn-A",
        "colab_type": "code",
        "colab": {}
      },
      "source": [
        "# Import libraries\n",
        "from tweepy import Stream\n",
        "from tweepy import OAuthHandler\n",
        "from tweepy.streaming import StreamListener\n",
        "import json\n",
        "import sentiment_mod as s"
      ],
      "execution_count": 0,
      "outputs": []
    },
    {
      "cell_type": "code",
      "metadata": {
        "id": "IAF30nh_N8SZ",
        "colab_type": "code",
        "colab": {}
      },
      "source": [
        "# Set consumer keys and tokens\n",
        "consumer_key = ''\n",
        "consumer_secret = ''\n",
        "access_token = ''\n",
        "access_token_secret = ''\n",
        "\n",
        "from twitterApiStuff import *\n",
        "\n",
        "class listener(StreamListener):\n",
        "  def on_data(self, data):\n",
        "    all_data = json.loads(data)\n",
        "\n",
        "    tweet = all_data['text']\n",
        "    sentiment_value, confidence = s.sentiment(tweet)\n",
        "    print(tweet, sentiment_value, confidence)\n",
        "\n",
        "    if confidence * 100 >= 80:\n",
        "      output = open('twitter-out.txt','a')\n",
        "      output.write(sentiment_value)\n",
        "      output.write('\\n')\n",
        "      output.close()\n",
        "\n",
        "    return True\n",
        "\n",
        "  def on_error(self, status):\n",
        "    print(status)\n",
        "auth = tweepy.OAuthHandler(consumer_key, consumer_secret)\n",
        "auth.access_token_secret(access_token_secret, access_token_secret)\n",
        "twitterStream = Stream(auth, listener())\n",
        "twitterStream.filter(track=['Buhari'])"
      ],
      "execution_count": 0,
      "outputs": []
    },
    {
      "cell_type": "code",
      "metadata": {
        "id": "g4s92mYhN8U-",
        "colab_type": "code",
        "colab": {}
      },
      "source": [
        "# Import libraries\n",
        "from textblob import TextBlob\n",
        "import sys, tweepy\n",
        "import matplotlib.pyplot as plt"
      ],
      "execution_count": 0,
      "outputs": []
    },
    {
      "cell_type": "code",
      "metadata": {
        "id": "oF_Hlc-KN8Yb",
        "colab_type": "code",
        "colab": {}
      },
      "source": [
        "# Define percentage function and set keys and tokens\n",
        "def percentage(part, whole):\n",
        "  return 100 * float(part)/float(whole)\n",
        "\n",
        "consumer_key = ''\n",
        "consumer_secret = ''\n",
        "access_token = ''\n",
        "access_token_secret = ''\n",
        "auth = tweepy.OAuthHandler(consumer_key, consumer_secret)\n",
        "auth.set_access_token(access_token, access_token_secret)\n",
        "api = tweepy.API(auth)\n",
        "\n",
        "searchTerm = input('Enter keyword/hashtag to search about: ')\n",
        "noOfSearchTerms = int(input('Enter how many tweets to analyze: '))\n",
        "\n",
        "tweets = tweepy.Cursor(api.search, q=searchTerm, lang='English').items(noOfSearchTerms)\n",
        "\n",
        "positive = 0\n",
        "negative = 0\n",
        "neutral = 0\n",
        "polarity = 0\n",
        "\n",
        "for tweet in tweets:\n",
        "  print(tweet.text)\n",
        "  analysis = TextBlob(tweet.text)\n",
        "  polarity += analysis.sentiment.polarity\n",
        "\n",
        "  if analysis.sentiment.polarity == 0:\n",
        "    neutral += 1\n",
        "  elif analysis.sentiment.polarity < 0:\n",
        "    negative += 1\n",
        "  elif analysis.sentiment.polarity > 0:\n",
        "    positive += 1\n",
        "\n",
        "positive = percentage(positive, noOfSearchTerms)\n",
        "negative = percentage(negative, noOfSearchTerms)\n",
        "neutral = percentage(neutral, noOfSearchTerms)\n",
        "polarity = percentage(polarity, noOfSearchTerms)\n",
        "\n",
        "positive = format(positive, '.2f')\n",
        "negative = format(negative, '.2f')\n",
        "neutral = format(neutral, '.2f')\n",
        "\n",
        "print('How people are reacting on ' + searchTerm + ' by analysis ' + str(noOfSearchTerms) + ' Tweets.')\n",
        "\n",
        "if (polarity == 0):\n",
        "  print('Neutral')\n",
        "elif (polarity < 0):\n",
        "  print('Negative')\n",
        "elif (polarity > 0):\n",
        "  print('Positive')\n",
        "\n",
        "labels = ['Positive ['+str(positive)+'%]','Neutral ['+str(neutral)+'%]', 'Negative ['+str(negative)+'%]']\n",
        "sizes = [positive, neutral, negative]\n",
        "colors = ['yellowgreen', 'gold', 'red']\n",
        "patches, texts = plt.pie(sizes, colors=colors, startangle=90)\n",
        "plt.legend(patches, labels, loc='best')\n",
        "plt.title('How people are reacting on '+ searchTerm + ' by analysing ' + str(noOfSearchTerms) + ' Tweets.')\n",
        "plt.axis('equal')\n",
        "plt.tight_layout()\n",
        "plt.show()"
      ],
      "execution_count": 0,
      "outputs": []
    },
    {
      "cell_type": "code",
      "metadata": {
        "id": "6vBc98YUN8QL",
        "colab_type": "code",
        "colab": {}
      },
      "source": [
        ""
      ],
      "execution_count": 0,
      "outputs": []
    }
  ]
}