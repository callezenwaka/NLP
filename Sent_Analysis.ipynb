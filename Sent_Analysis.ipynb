{
  "nbformat": 4,
  "nbformat_minor": 0,
  "metadata": {
    "colab": {
      "name": "Sent_Analysis.ipynb",
      "provenance": [],
      "private_outputs": true,
      "include_colab_link": true
    },
    "kernelspec": {
      "name": "python3",
      "display_name": "Python 3"
    },
    "accelerator": "GPU"
  },
  "cells": [
    {
      "cell_type": "markdown",
      "metadata": {
        "id": "view-in-github",
        "colab_type": "text"
      },
      "source": [
        "<a href=\"https://colab.research.google.com/github/callezenwaka/NLP/blob/master/Sent_Analysis.ipynb\" target=\"_parent\"><img src=\"https://colab.research.google.com/assets/colab-badge.svg\" alt=\"Open In Colab\"/></a>"
      ]
    },
    {
      "cell_type": "code",
      "metadata": {
        "id": "eAph1cnmHzoV",
        "colab_type": "code",
        "colab": {}
      },
      "source": [
        "# Install packages\n",
        "pip install newspaper3k"
      ],
      "execution_count": 0,
      "outputs": []
    },
    {
      "cell_type": "code",
      "metadata": {
        "id": "xIFwSXVOH6LS",
        "colab_type": "code",
        "colab": {}
      },
      "source": [
        "# Import libraries\n",
        "from textblob import TextBlob\n",
        "import nltk\n",
        "from newspaper import Article"
      ],
      "execution_count": 0,
      "outputs": []
    },
    {
      "cell_type": "code",
      "metadata": {
        "id": "jTcoKgRYH6Op",
        "colab_type": "code",
        "colab": {}
      },
      "source": [
        "# Get the article\n",
        "url = 'https://everythingcomputerscience.com'\n",
        "article = Article(url)"
      ],
      "execution_count": 0,
      "outputs": []
    },
    {
      "cell_type": "code",
      "metadata": {
        "id": "qRwRg_6cITfW",
        "colab_type": "code",
        "colab": {}
      },
      "source": [
        "# Do some NLP\n",
        "article.download()\n",
        "article.parse()\n",
        "nltk.download('punkt')\n",
        "article.nlp()"
      ],
      "execution_count": 0,
      "outputs": []
    },
    {
      "cell_type": "code",
      "metadata": {
        "id": "AG4QDIJmIUR3",
        "colab_type": "code",
        "colab": {}
      },
      "source": [
        "# Get the summary of the article\n",
        "text = article.summary\n",
        "\n",
        "# Print the text\n",
        "print(text)"
      ],
      "execution_count": 0,
      "outputs": []
    },
    {
      "cell_type": "code",
      "metadata": {
        "id": "cOjBzY8nIzJj",
        "colab_type": "code",
        "colab": {}
      },
      "source": [
        "# Create a textblob object\n",
        "obj = TextBlob(text)\n",
        "\n",
        "# Return sentiment polarity (-1, 0, 1)\n",
        "sentiment = obj.sentiment.polarity\n",
        "print(sentiment)"
      ],
      "execution_count": 0,
      "outputs": []
    },
    {
      "cell_type": "code",
      "metadata": {
        "id": "al8_JTYdIzXS",
        "colab_type": "code",
        "colab": {}
      },
      "source": [
        "if sentiment == 0:\n",
        "  print('The text is neutral')\n",
        "elif sentiment > 0:\n",
        "  print('The text is positive')\n",
        "else:\n",
        "  print('The text is negative')"
      ],
      "execution_count": 0,
      "outputs": []
    }
  ]
}