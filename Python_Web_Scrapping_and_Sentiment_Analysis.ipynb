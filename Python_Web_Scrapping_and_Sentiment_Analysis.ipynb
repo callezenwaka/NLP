{
  "nbformat": 4,
  "nbformat_minor": 0,
  "metadata": {
    "colab": {
      "name": "Python Web Scrapping and Sentiment Analysis.ipynb",
      "provenance": [],
      "private_outputs": true,
      "include_colab_link": true
    },
    "kernelspec": {
      "name": "python3",
      "display_name": "Python 3"
    },
    "accelerator": "GPU"
  },
  "cells": [
    {
      "cell_type": "markdown",
      "metadata": {
        "id": "view-in-github",
        "colab_type": "text"
      },
      "source": [
        "<a href=\"https://colab.research.google.com/github/callezenwaka/NLP/blob/master/Python_Web_Scrapping_and_Sentiment_Analysis.ipynb\" target=\"_parent\"><img src=\"https://colab.research.google.com/assets/colab-badge.svg\" alt=\"Open In Colab\"/></a>"
      ]
    },
    {
      "cell_type": "code",
      "metadata": {
        "id": "rqeBhRJAu3-Z",
        "colab_type": "code",
        "colab": {}
      },
      "source": [
        "from bs4 import BeautifulSoup\n",
        "import requests"
      ],
      "execution_count": 0,
      "outputs": []
    },
    {
      "cell_type": "code",
      "metadata": {
        "id": "61o1VrAYvE6b",
        "colab_type": "code",
        "colab": {}
      },
      "source": [
        "url = requests.get('https://redditmetrics.com/top')\n",
        "soup = BeautifulSoup(url.text, 'html.parser')\n",
        "\n",
        "with open('sb.txt', 'w') as f:\n",
        "  for subreddit in soup.find_all('a'):\n",
        "    try:\n",
        "      if '/r' in subreddit.string:\n",
        "        f.write(subreddit.string[3:] + '\\n')\n",
        "    except:\n",
        "        TypeError"
      ],
      "execution_count": 0,
      "outputs": []
    },
    {
      "cell_type": "code",
      "metadata": {
        "id": "7pvEesfi9_Re",
        "colab_type": "code",
        "colab": {}
      },
      "source": [
        "pip install praw"
      ],
      "execution_count": 0,
      "outputs": []
    },
    {
      "cell_type": "code",
      "metadata": {
        "id": "XJiLwNW9vE9Y",
        "colab_type": "code",
        "colab": {}
      },
      "source": [
        "import praw\n",
        "from textblob import TextBlob\n",
        "import math"
      ],
      "execution_count": 0,
      "outputs": []
    },
    {
      "cell_type": "code",
      "metadata": {
        "id": "Nk4jsFlVvE_o",
        "colab_type": "code",
        "colab": {}
      },
      "source": [
        "reddit = praw.Reddit(client_id='-aVW3qwyYFDb_w', client_secret='11uwl_EwX8NZFN1Nl3wpU_zVK_U', user_agent='subSentiment')\n",
        "\n",
        "with open('sb.txt') as f:\n",
        "  day_start = 1573416056\n",
        "  day_end = 1573415996\n",
        "  for line in f:\n",
        "    # subreddit = reddit.subreddit(line.strip())\n",
        "\n",
        "    # sub_submissions = subreddit.submissions(day_start, day_end)\n",
        "\n",
        "    sub_sentiment = 0\n",
        "    num_comments = 0\n",
        "\n",
        "    for submission in reddit.subreddit('all').hot(limit=25):\n",
        "      if not submission.stickied:\n",
        "        submission.comments.replace_more(limit=0)\n",
        "        for comment in submission.comments.list():\n",
        "          blob = TextBlob(comment.body)\n",
        "\n",
        "          comment_sentiment = blob.sentiment.polarity\n",
        "          sub_sentiment += comment_sentiment\n",
        "\n",
        "          num_comments += 1\n",
        "\n",
        "    print('/r/' + str(subreddit.display_name))\n",
        "    try:\n",
        "      print('Ratio: ' + str(math.floor(sub_sentiment/num_comments * 100)) + '\\n')\n",
        "    except:\n",
        "      print('No comment sentiment.' + '\\n')\n",
        "      ZeroDivisionError\n",
        "\n"
      ],
      "execution_count": 0,
      "outputs": []
    },
    {
      "cell_type": "code",
      "metadata": {
        "id": "Umdkl9-RHGWU",
        "colab_type": "code",
        "colab": {}
      },
      "source": [
        ""
      ],
      "execution_count": 0,
      "outputs": []
    }
  ]
}